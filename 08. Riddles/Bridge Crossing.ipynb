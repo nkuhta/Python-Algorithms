{
 "cells": [
  {
   "cell_type": "markdown",
   "metadata": {},
   "source": [
    "# Bridge Crossing\n",
    "---\n",
    "A group of __four travelers__ comes to a bridge at night.  The bridge can hold the weight of at most __only two people at a time__, and it cannot be crossed without a __flashlight__.  \n",
    "\n",
    "The travelers have one flashlight.  Each person walks at a different speed: The __first__ can cross the bridge in __1 minute__, the __second in 2 minutes__, and __third in 5 minutes__, and the __fourth in 10 minutes__.  If people travel together they do so at the speed of the slower traveler.  \n",
    "\n",
    "What is the least amount of time in which all th travelers can cross from one side of the bridge to the other?"
   ]
  },
  {
   "cell_type": "code",
   "execution_count": 1,
   "metadata": {
    "collapsed": true
   },
   "outputs": [],
   "source": [
    "def min_time(people_time_list):\n",
    "    total_time = 0 \n",
    "    \n",
    "    #  while the \n",
    "    while len(people_time_list) >=2:\n",
    "        total_time += people_time_list.pop() + people_time_list[0]\n",
    "        \n",
    "    return total_time"
   ]
  },
  {
   "cell_type": "markdown",
   "metadata": {},
   "source": [
    "The solution is to have the slowest people only traverse once with guided by the fastest person with a flashlight.  Then the fastest person comes back and guides the next alowest person etc.  "
   ]
  },
  {
   "cell_type": "code",
   "execution_count": 2,
   "metadata": {},
   "outputs": [
    {
     "data": {
      "text/plain": [
       "20"
      ]
     },
     "execution_count": 2,
     "metadata": {},
     "output_type": "execute_result"
    }
   ],
   "source": [
    "arr=[1,2,5,10]\n",
    "min_time(arr)"
   ]
  },
  {
   "cell_type": "markdown",
   "metadata": {},
   "source": [
    "#  Best Solution is to have the slowest 2 people cross at the same time! \n",
    "---\n",
    "\n",
    "*  (1) and (2)  cross -->  (2)\n",
    "*  (1) returns with flashlight  --> (1)\n",
    "*  __(5) and (10) cross -->  (10)__\n",
    "*  (2) returns  -->  (2)\n",
    "*  (1) and (2) cross -->  (2)  \n",
    "\n",
    "2 + 1 + 10 + 2 + 2 = 17 min elapsed!  "
   ]
  },
  {
   "cell_type": "code",
   "execution_count": null,
   "metadata": {
    "collapsed": true
   },
   "outputs": [],
   "source": []
  }
 ],
 "metadata": {
  "kernelspec": {
   "display_name": "Python 3",
   "language": "python",
   "name": "python3"
  },
  "language_info": {
   "codemirror_mode": {
    "name": "ipython",
    "version": 3
   },
   "file_extension": ".py",
   "mimetype": "text/x-python",
   "name": "python",
   "nbconvert_exporter": "python",
   "pygments_lexer": "ipython3",
   "version": "3.6.3"
  }
 },
 "nbformat": 4,
 "nbformat_minor": 2
}
