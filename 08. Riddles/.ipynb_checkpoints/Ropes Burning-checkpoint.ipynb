{
 "cells": [
  {
   "cell_type": "markdown",
   "metadata": {},
   "source": [
    "# Ropes Burning \n",
    "---\n",
    "You have two ropes.  Each takes exactly 60 minutes to burn. \n",
    "\n",
    "They are made of different material, so even though they take the same time to burn, they burn at different rates.   \n",
    "\n",
    "How do you measure out exactly 45 minutes?  "
   ]
  },
  {
   "cell_type": "markdown",
   "metadata": {},
   "source": [
    "# Solution\n",
    "---\n",
    "*  Take one rope and burn it at both ends \n",
    "*  At the same time, burn one end of the other rope\n",
    "*  When the first rope finishing burning, light the other end of the remaining rope.  \n",
    "* When it burns out that's 45 minutes.  "
   ]
  },
  {
   "cell_type": "code",
   "execution_count": null,
   "metadata": {
    "collapsed": true
   },
   "outputs": [],
   "source": []
  }
 ],
 "metadata": {
  "kernelspec": {
   "display_name": "Python 3",
   "language": "python",
   "name": "python3"
  },
  "language_info": {
   "codemirror_mode": {
    "name": "ipython",
    "version": 3
   },
   "file_extension": ".py",
   "mimetype": "text/x-python",
   "name": "python",
   "nbconvert_exporter": "python",
   "pygments_lexer": "ipython3",
   "version": "3.6.3"
  }
 },
 "nbformat": 4,
 "nbformat_minor": 2
}
