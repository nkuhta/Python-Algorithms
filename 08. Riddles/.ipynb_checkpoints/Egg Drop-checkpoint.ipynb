{
 "cells": [
  {
   "cell_type": "markdown",
   "metadata": {},
   "source": [
    "# Egg Drop\n",
    "---\n",
    "A tower has 100 floors.  You have two eggs.  Find the highest floor you can drop the egg from without breaking in as few drops as possible.  "
   ]
  },
  {
   "cell_type": "code",
   "execution_count": 1,
   "metadata": {},
   "outputs": [],
   "source": [
    "def drop_num(break_floor):\n",
    "    \n",
    "    count = 0\n",
    "    test_floor = 10\n",
    "    eggs = 2\n",
    "    one_broken = False \n",
    "    \n",
    "    while eggs > 0:\n",
    "        if test_floor == break_floor:\n",
    "            print(\"test_floor = \",test_floor)\n",
    "            count+=1\n",
    "            print(\"count = \",count)\n",
    "            eggs-=1\n",
    "            return count\n",
    "        else:\n",
    "            if break_floor > test_floor and not one_broken:\n",
    "                count += 1\n",
    "                print(\"test_floor = \",test_floor)\n",
    "                test_floor += 10\n",
    "                print(\"count = \",count)\n",
    "                \n",
    "            \n",
    "            #  egg breaks, break_floor < test_floor \n",
    "            #  need to start checking last egg one floor at a time\n",
    "            if break_floor < test_floor and not one_broken:\n",
    "                count+=1\n",
    "                eggs-=1\n",
    "                print(\"test_floor = \",test_floor)\n",
    "                test_floor-=9\n",
    "                one_broken = True\n",
    "                \n",
    "                print(\"count = \",count)\n",
    "            if break_floor > test_floor and one_broken:\n",
    "                count+=1\n",
    "                print(\"test_floor = \",test_floor)\n",
    "                test_floor+=1                \n",
    "                print(\"count = \",count)\n",
    "\n",
    "    return count"
   ]
  },
  {
   "cell_type": "code",
   "execution_count": 2,
   "metadata": {},
   "outputs": [
    {
     "name": "stdout",
     "output_type": "stream",
     "text": [
      "test_floor =  10\n",
      "count =  1\n",
      "test_floor =  20\n",
      "count =  2\n",
      "test_floor =  11\n",
      "count =  3\n",
      "test_floor =  12\n",
      "count =  4\n"
     ]
    },
    {
     "data": {
      "text/plain": [
       "4"
      ]
     },
     "execution_count": 2,
     "metadata": {},
     "output_type": "execute_result"
    }
   ],
   "source": [
    "drop_num(12)"
   ]
  },
  {
   "cell_type": "code",
   "execution_count": 3,
   "metadata": {},
   "outputs": [
    {
     "name": "stdout",
     "output_type": "stream",
     "text": [
      "test_floor =  10\n",
      "count =  1\n",
      "test_floor =  20\n",
      "count =  2\n",
      "test_floor =  30\n",
      "count =  3\n",
      "test_floor =  40\n",
      "count =  4\n",
      "test_floor =  50\n",
      "count =  5\n",
      "test_floor =  60\n",
      "count =  6\n",
      "test_floor =  70\n",
      "count =  7\n",
      "test_floor =  80\n",
      "count =  8\n",
      "test_floor =  90\n",
      "count =  9\n",
      "test_floor =  100\n",
      "count =  10\n",
      "test_floor =  91\n",
      "count =  11\n",
      "test_floor =  92\n",
      "count =  12\n",
      "test_floor =  93\n",
      "count =  13\n",
      "test_floor =  94\n",
      "count =  14\n",
      "test_floor =  95\n",
      "count =  15\n",
      "test_floor =  96\n",
      "count =  16\n",
      "test_floor =  97\n",
      "count =  17\n",
      "test_floor =  98\n",
      "count =  18\n",
      "test_floor =  99\n",
      "count =  19\n"
     ]
    },
    {
     "data": {
      "text/plain": [
       "19"
      ]
     },
     "execution_count": 3,
     "metadata": {},
     "output_type": "execute_result"
    }
   ],
   "source": [
    "drop_num(99)"
   ]
  },
  {
   "cell_type": "markdown",
   "metadata": {},
   "source": [
    "#  Optimal Solution \n",
    "---\n",
    "Decrease stepsize by x-1 each iteration.  \n",
    "\n",
    "x + (x-1) + (x-2) + ... + 2 + 1 = n\n",
    "\n",
    "so,  x(x+1)/2 = n\n",
    "\n",
    "__x = 14__ in this case and decrease by one each attempt.  "
   ]
  },
  {
   "cell_type": "code",
   "execution_count": null,
   "metadata": {
    "collapsed": true
   },
   "outputs": [],
   "source": []
  }
 ],
 "metadata": {
  "kernelspec": {
   "display_name": "Python 3",
   "language": "python",
   "name": "python3"
  },
  "language_info": {
   "codemirror_mode": {
    "name": "ipython",
    "version": 3
   },
   "file_extension": ".py",
   "mimetype": "text/x-python",
   "name": "python",
   "nbconvert_exporter": "python",
   "pygments_lexer": "ipython3",
   "version": "3.6.3"
  }
 },
 "nbformat": 4,
 "nbformat_minor": 2
}
