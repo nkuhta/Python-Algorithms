{
 "cells": [
  {
   "cell_type": "markdown",
   "metadata": {},
   "source": [
    "# Light Switches\n",
    "---\n",
    "_Warning_ this is a bit of a trick.  \n",
    "\n",
    "You are in the hallway next to three light switches, all are off.  Each switch activates a different bulb in the room at the end of the hall.  \n",
    "\n",
    "You cannot see the lights from where the switches are.  \n",
    "\n",
    "Going into the room only once, determine which light corresponds to each switch.  "
   ]
  },
  {
   "cell_type": "markdown",
   "metadata": {},
   "source": [
    "# Solution\n",
    "---\n",
    "1.  Turn on switch 1 for 15 minutes, to heat up bulb 1\n",
    "2.  Turn off switch 1 and turn on switch 2 and walk to room. \n",
    "\n",
    "*  On light is for switch 2\n",
    "*  Off light that's warm is switch 1\n",
    "*  Off light that's cold is for switch 3.  "
   ]
  },
  {
   "cell_type": "code",
   "execution_count": null,
   "metadata": {
    "collapsed": true
   },
   "outputs": [],
   "source": []
  }
 ],
 "metadata": {
  "kernelspec": {
   "display_name": "Python 3",
   "language": "python",
   "name": "python3"
  },
  "language_info": {
   "codemirror_mode": {
    "name": "ipython",
    "version": 3
   },
   "file_extension": ".py",
   "mimetype": "text/x-python",
   "name": "python",
   "nbconvert_exporter": "python",
   "pygments_lexer": "ipython3",
   "version": "3.6.3"
  }
 },
 "nbformat": 4,
 "nbformat_minor": 2
}
