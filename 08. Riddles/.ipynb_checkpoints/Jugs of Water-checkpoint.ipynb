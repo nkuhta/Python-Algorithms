{
 "cells": [
  {
   "cell_type": "markdown",
   "metadata": {},
   "source": [
    "#  Jugs of water\n",
    "---\n",
    "You have a five gallon jug and a 3 gallon jug.  Given an unlimited supply of wafer (but no measuring cups) How would you come up with exactly 4 gallons of wafer?  "
   ]
  },
  {
   "cell_type": "markdown",
   "metadata": {},
   "source": [
    "# Solution \n",
    "---\n",
    "1.  Fill up the 5 gallon bucket.\n",
    "2.  From the five gallon bucket pour 3 gallons into 3 gallon bucket, leaving 2 gallons in five gallon bucket.  \n",
    "3.  Dump out 3 gallon bucket. \n",
    "4.  Pour the 2 gallons from the five gallon bucket into the 3 gallon bucket.  \n",
    "5.  Fill up the five gallon bucket. \n",
    "6.  Pour off 1 gallon from the five gallon bucket needed to fill the 3 gallon bucket, leaving 4 gallons in the five gallon bucket :)"
   ]
  },
  {
   "cell_type": "code",
   "execution_count": null,
   "metadata": {
    "collapsed": true
   },
   "outputs": [],
   "source": []
  }
 ],
 "metadata": {
  "kernelspec": {
   "display_name": "Python 3",
   "language": "python",
   "name": "python3"
  },
  "language_info": {
   "codemirror_mode": {
    "name": "ipython",
    "version": 3
   },
   "file_extension": ".py",
   "mimetype": "text/x-python",
   "name": "python",
   "nbconvert_exporter": "python",
   "pygments_lexer": "ipython3",
   "version": "3.6.3"
  }
 },
 "nbformat": 4,
 "nbformat_minor": 2
}
