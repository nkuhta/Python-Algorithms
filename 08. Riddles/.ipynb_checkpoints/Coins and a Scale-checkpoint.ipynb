{
 "cells": [
  {
   "cell_type": "markdown",
   "metadata": {},
   "source": [
    "# Coins and a Scale\n",
    "---\n",
    "You have eight coins in a two-pan scale.  All the coins weigh the same, __except for one__ which is heavier that all the others. The coins are otherwise indistinguishable.  What is the minimum number of weighings to be certain to identify the heavy coin?  "
   ]
  },
  {
   "cell_type": "code",
   "execution_count": 1,
   "metadata": {
    "collapsed": true
   },
   "outputs": [],
   "source": [
    "def heavy_coin(coin_weight_list):\n",
    "    \n",
    "    # number of weighing events\n",
    "    weighing_count = 0\n",
    "    \n",
    "    # Use binary search to narrow down coin weight list \n",
    "    while len(coin_weight_list) > 1:\n",
    "        midpoint = len(coin_weight_list)//2\n",
    "        left_weight = sum(coin_weight_list[:midpoint])\n",
    "        right_weight = sum(coin_weight_list[midpoint:])\n",
    "        \n",
    "        if left_weight > right_weight:\n",
    "            coin_weight_list = coin_weight_list[:midpoint]\n",
    "        else:\n",
    "            coin_weight_list = coin_weight_list[midpoint:]\n",
    "        weighing_count +=1\n",
    "        \n",
    "    return weighing_count"
   ]
  },
  {
   "cell_type": "code",
   "execution_count": 2,
   "metadata": {
    "collapsed": true
   },
   "outputs": [],
   "source": [
    "coins=[1,1,2,1,1,1,1,1]"
   ]
  },
  {
   "cell_type": "code",
   "execution_count": 3,
   "metadata": {},
   "outputs": [
    {
     "data": {
      "text/plain": [
       "3"
      ]
     },
     "execution_count": 3,
     "metadata": {},
     "output_type": "execute_result"
    }
   ],
   "source": [
    "heavy_coin(coins)"
   ]
  },
  {
   "cell_type": "markdown",
   "metadata": {},
   "source": [
    "# Optimal Solution\n",
    "---\n",
    "You can do better than binary search here.  Break the eight coins into 2 groups of three and another group of 2.  \n",
    "\n",
    "Compare the two groups of 3 with one weighing.  \n",
    "\n",
    "If the groups of three are equal then one more measurement of the group of two is required to find the heavy coin.  \n",
    "\n",
    "Else if one of the groups of three is heavier, then measure two of it's coins one more time, if they're equal the coin left out is unique, or you measure one of the coins being heavier directly.  \n",
    "\n",
    "So it takes __2__ measurements.  "
   ]
  },
  {
   "cell_type": "code",
   "execution_count": null,
   "metadata": {
    "collapsed": true
   },
   "outputs": [],
   "source": []
  }
 ],
 "metadata": {
  "kernelspec": {
   "display_name": "Python 3",
   "language": "python",
   "name": "python3"
  },
  "language_info": {
   "codemirror_mode": {
    "name": "ipython",
    "version": 3
   },
   "file_extension": ".py",
   "mimetype": "text/x-python",
   "name": "python",
   "nbconvert_exporter": "python",
   "pygments_lexer": "ipython3",
   "version": "3.6.3"
  }
 },
 "nbformat": 4,
 "nbformat_minor": 2
}
