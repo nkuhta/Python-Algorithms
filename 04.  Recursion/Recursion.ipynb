{
 "cells": [
  {
   "cell_type": "markdown",
   "metadata": {},
   "source": [
    "# Recursion \n",
    "---\n",
    "* When a function makes one or more calls to itself.  "
   ]
  },
  {
   "cell_type": "markdown",
   "metadata": {},
   "source": [
    "# Factorial Function - Recursion Example\n",
    "---\n",
    "$ n! = n \\cdot (n-1) \\cdot (n-2) \\,\\,.... \\,3 \\cdot 2 \\cdot 1$\n",
    "\n",
    "$ n! = n \\cdot (n-1)!$   \n",
    "This is the base case for the recursion function. \n",
    "\n",
    "$0! = 1$"
   ]
  },
  {
   "cell_type": "code",
   "execution_count": 1,
   "metadata": {
    "collapsed": true
   },
   "outputs": [],
   "source": [
    "def fact(n):\n",
    "    \n",
    "    # Base case\n",
    "    if n ==0:\n",
    "        return 1\n",
    "    \n",
    "    else: \n",
    "        return n * fact(n-1)    \n",
    "    \n",
    "    #   call the function inside the function again until n == 0. "
   ]
  },
  {
   "cell_type": "code",
   "execution_count": 2,
   "metadata": {},
   "outputs": [
    {
     "data": {
      "text/plain": [
       "120"
      ]
     },
     "execution_count": 2,
     "metadata": {},
     "output_type": "execute_result"
    }
   ],
   "source": [
    "fact(5)"
   ]
  },
  {
   "cell_type": "markdown",
   "metadata": {},
   "source": [
    "# Cumulative Sum Function \n",
    "---\n",
    "Write a recursive function that takes an integer and computes the cumulative sum of 0 up to that number.  \n",
    "\n",
    "Example:  n = 4, return 4+3+2+1+0\n",
    "\n",
    "Recursion formula:   rec_sum(n) = n + rec_sum(n-1)"
   ]
  },
  {
   "cell_type": "code",
   "execution_count": 3,
   "metadata": {
    "collapsed": true
   },
   "outputs": [],
   "source": [
    "def rec_sum(n):\n",
    "    \n",
    "    if n==0:\n",
    "        return 0\n",
    "    else:\n",
    "        return n + rec_sum(n-1)\n",
    "    "
   ]
  },
  {
   "cell_type": "code",
   "execution_count": 4,
   "metadata": {},
   "outputs": [
    {
     "data": {
      "text/plain": [
       "10"
      ]
     },
     "execution_count": 4,
     "metadata": {},
     "output_type": "execute_result"
    }
   ],
   "source": [
    "rec_sum(4)"
   ]
  },
  {
   "cell_type": "code",
   "execution_count": 5,
   "metadata": {},
   "outputs": [
    {
     "data": {
      "text/plain": [
       "15"
      ]
     },
     "execution_count": 5,
     "metadata": {},
     "output_type": "execute_result"
    }
   ],
   "source": [
    "rec_sum(5)"
   ]
  },
  {
   "cell_type": "code",
   "execution_count": 6,
   "metadata": {},
   "outputs": [
    {
     "data": {
      "text/plain": [
       "21"
      ]
     },
     "execution_count": 6,
     "metadata": {},
     "output_type": "execute_result"
    }
   ],
   "source": [
    "rec_sum(6)"
   ]
  },
  {
   "cell_type": "markdown",
   "metadata": {},
   "source": [
    "# Sum all Digits in an integer input number\n",
    "---\n",
    "For example given n = 4321, return 4+3+2+1  \n",
    "Recursive function:  sum(4321) = 4 + sum(321)"
   ]
  },
  {
   "cell_type": "code",
   "execution_count": 7,
   "metadata": {},
   "outputs": [],
   "source": [
    "def sum_func(n):\n",
    "    # convert number to string\n",
    "    n_str = str(n)\n",
    "    \n",
    "    if len(n_str)==1:\n",
    "        return int(n_str)\n",
    "    else:\n",
    "        #  sum the first number the rest of the string recursively \n",
    "        return int(n_str[0]) + sum_func(int(n_str[1:]))"
   ]
  },
  {
   "cell_type": "code",
   "execution_count": 8,
   "metadata": {},
   "outputs": [
    {
     "data": {
      "text/plain": [
       "10"
      ]
     },
     "execution_count": 8,
     "metadata": {},
     "output_type": "execute_result"
    }
   ],
   "source": [
    "sum_func(4321)"
   ]
  },
  {
   "cell_type": "markdown",
   "metadata": {},
   "source": [
    "# Word Split recursion function\n",
    "---\n",
    "Given an input __string__ and a set __list_of_words__ return the list of words that are within the string and contained in the list of words.  \n",
    "\n",
    "Example:  word_split('ilovedogs',['dogs','apple','cat','tree','i'])  \n",
    "returns:  ['i','dogs'] "
   ]
  },
  {
   "cell_type": "code",
   "execution_count": 9,
   "metadata": {},
   "outputs": [],
   "source": [
    "solution = []\n",
    "\n",
    "def word_split(input_str,list_of_words):\n",
    "    \n",
    "    #  for non-zero list length\n",
    "    while len(list_of_words)!=0:\n",
    "        \n",
    "        # if list[0] in input_str\n",
    "        if list_of_words[0] in input_str:\n",
    "            \n",
    "            # append to solution\n",
    "            solution.append(list_of_words[0])\n",
    "            # remove first list element\n",
    "            list_of_words.pop(0)\n",
    "            # recursively run word_split \n",
    "            word_split(input_str,list_of_words)\n",
    "        else:  \n",
    "            list_of_words.pop(0)\n",
    "            word_split(input_str,list_of_words)\n",
    "    return solution"
   ]
  },
  {
   "cell_type": "code",
   "execution_count": 10,
   "metadata": {},
   "outputs": [
    {
     "data": {
      "text/plain": [
       "['love', 'dogs']"
      ]
     },
     "execution_count": 10,
     "metadata": {},
     "output_type": "execute_result"
    }
   ],
   "source": [
    "word_split('ilovedogs',['love','dogs','apple','banana'])"
   ]
  },
  {
   "cell_type": "code",
   "execution_count": null,
   "metadata": {
    "collapsed": true
   },
   "outputs": [],
   "source": []
  },
  {
   "cell_type": "code",
   "execution_count": null,
   "metadata": {
    "collapsed": true
   },
   "outputs": [],
   "source": []
  }
 ],
 "metadata": {
  "kernelspec": {
   "display_name": "Python 3",
   "language": "python",
   "name": "python3"
  },
  "language_info": {
   "codemirror_mode": {
    "name": "ipython",
    "version": 3
   },
   "file_extension": ".py",
   "mimetype": "text/x-python",
   "name": "python",
   "nbconvert_exporter": "python",
   "pygments_lexer": "ipython3",
   "version": "3.6.1"
  }
 },
 "nbformat": 4,
 "nbformat_minor": 2
}
