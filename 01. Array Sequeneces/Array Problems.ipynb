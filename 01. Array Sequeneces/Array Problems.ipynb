{
 "cells": [
  {
   "cell_type": "markdown",
   "metadata": {},
   "source": [
    "#  Array Problems\n",
    "---"
   ]
  },
  {
   "cell_type": "markdown",
   "metadata": {},
   "source": [
    "##  Problem 1:  Anagram Check\n",
    "Given 2 strings check to see if they're an anagram.  \n",
    "Hint:  Remember an anagram is a different phrase that uses the same letters.  \n",
    "Only consider lower case letters (ignore capital) and ignore spaces. \n",
    "\n",
    "#### Examples:  \n",
    "\"public relations\" is an anagram of \"crap built on lies\"  \n",
    "\"clint eastwood\"   is an anagram of \"old west action\"  "
   ]
  },
  {
   "cell_type": "markdown",
   "metadata": {},
   "source": [
    "### Anagram solution 1"
   ]
  },
  {
   "cell_type": "code",
   "execution_count": 1,
   "metadata": {
    "collapsed": true
   },
   "outputs": [],
   "source": [
    "\n",
    "def anagram(str1,str2):\n",
    "    \n",
    "    #  letter dictionaries \n",
    "    s1=dict()\n",
    "    s2=dict()\n",
    "    \n",
    "    #  populate the 2 dictionaries\n",
    "    for element in str1:\n",
    "        if element != ' ':\n",
    "            try:\n",
    "                s1[element.lower()] = s1[element.lower()]+1\n",
    "            except: \n",
    "                s1[element.lower()] = 1\n",
    "                \n",
    "    for element in str2:\n",
    "        if element != ' ':\n",
    "            try:\n",
    "                s2[element.lower()] = s2[element.lower()]+1\n",
    "            except: \n",
    "                s2[element.lower()] = 1\n",
    "                \n",
    "    return s1==s2        "
   ]
  },
  {
   "cell_type": "code",
   "execution_count": 2,
   "metadata": {},
   "outputs": [
    {
     "data": {
      "text/plain": [
       "False"
      ]
     },
     "execution_count": 2,
     "metadata": {},
     "output_type": "execute_result"
    }
   ],
   "source": [
    "anagram('my dog dog','my dog dig')"
   ]
  },
  {
   "cell_type": "code",
   "execution_count": 3,
   "metadata": {},
   "outputs": [
    {
     "data": {
      "text/plain": [
       "True"
      ]
     },
     "execution_count": 3,
     "metadata": {},
     "output_type": "execute_result"
    }
   ],
   "source": [
    "anagram('my dog dog','my god  dog')"
   ]
  },
  {
   "cell_type": "code",
   "execution_count": 4,
   "metadata": {},
   "outputs": [
    {
     "data": {
      "text/plain": [
       "True"
      ]
     },
     "execution_count": 4,
     "metadata": {},
     "output_type": "execute_result"
    }
   ],
   "source": [
    "anagram(\"public relations\",\"crap built on lies\")"
   ]
  },
  {
   "cell_type": "code",
   "execution_count": 5,
   "metadata": {},
   "outputs": [
    {
     "data": {
      "text/plain": [
       "True"
      ]
     },
     "execution_count": 5,
     "metadata": {},
     "output_type": "execute_result"
    }
   ],
   "source": [
    "anagram(\"clint eastwood\",\"old west action\")"
   ]
  },
  {
   "cell_type": "markdown",
   "metadata": {},
   "source": [
    "### Anagram solution 2"
   ]
  },
  {
   "cell_type": "code",
   "execution_count": 6,
   "metadata": {
    "collapsed": true
   },
   "outputs": [],
   "source": [
    "def anagram2(s1,s2):\n",
    "    s1 = s1.replace(' ','').lower()\n",
    "    s2 = s2.replace(' ','').lower()\n",
    "    return sorted(s1)==sorted(s2)"
   ]
  },
  {
   "cell_type": "code",
   "execution_count": 7,
   "metadata": {},
   "outputs": [
    {
     "data": {
      "text/plain": [
       "True"
      ]
     },
     "execution_count": 7,
     "metadata": {},
     "output_type": "execute_result"
    }
   ],
   "source": [
    "anagram2(\"clint eastwood\",\"old west action\")"
   ]
  },
  {
   "cell_type": "markdown",
   "metadata": {
    "collapsed": true
   },
   "source": [
    "### Anagram solution 3 - Explicit Form, best for interviews"
   ]
  },
  {
   "cell_type": "code",
   "execution_count": 8,
   "metadata": {
    "collapsed": true
   },
   "outputs": [],
   "source": [
    "def anagram3(s1,s2):\n",
    "    s1 = s1.replace(' ','').lower()\n",
    "    s2 = s2.replace(' ','').lower()\n",
    "    \n",
    "    # Edge case check \n",
    "    if len(s1) != len(s2):\n",
    "        return False \n",
    "    \n",
    "    count = {}\n",
    "    \n",
    "    # count up\n",
    "    for letter in s1: \n",
    "        # if letter is in count dictionary\n",
    "        if letter in count:\n",
    "            count[letter]+=1\n",
    "        else: \n",
    "            count[letter]=1\n",
    "    \n",
    "    # count down for s2\n",
    "    for letter in s2: \n",
    "        if letter in count:\n",
    "            count[letter]-=1\n",
    "        else:\n",
    "            count[letter] = 1\n",
    "    \n",
    "    for k in count:\n",
    "        if count[k]!=0:\n",
    "            return False\n",
    "    \n",
    "    return True\n",
    "        "
   ]
  },
  {
   "cell_type": "code",
   "execution_count": 9,
   "metadata": {},
   "outputs": [
    {
     "data": {
      "text/plain": [
       "True"
      ]
     },
     "execution_count": 9,
     "metadata": {},
     "output_type": "execute_result"
    }
   ],
   "source": [
    "anagram3(\"clint eastwood\",\"old west action\")"
   ]
  },
  {
   "cell_type": "markdown",
   "metadata": {},
   "source": [
    "#  Array Pair Sum\n",
    "---\n",
    "Given an integer array, output all the _unique_ pairs that sum up to a specific value __k__.  \n",
    "\n",
    "So the input:  \n",
    "\n",
    "pair_sum([1,3,2,2],4)  \n",
    "\n",
    "would return 2 pairs:  \n",
    "(1,3)  \n",
    "(2,2)\n"
   ]
  },
  {
   "cell_type": "markdown",
   "metadata": {},
   "source": [
    "### Array Pair sum - solution 1 "
   ]
  },
  {
   "cell_type": "code",
   "execution_count": 10,
   "metadata": {
    "collapsed": true
   },
   "outputs": [],
   "source": [
    "def pair_sum(arr,k):    \n",
    "    \n",
    "    count=0\n",
    "    unique=[]\n",
    "    \n",
    "    #  from 0 to k, find number of unique (i,k-i) pairs \n",
    "    \n",
    "    for i in range(len(arr)):\n",
    "        if k-arr[i] in arr:\n",
    "            if arr[i] not in unique:\n",
    "                count+=1\n",
    "                unique.append(arr[i])\n",
    "                unique.append(k-arr[i])\n",
    "    \n",
    "    print('unique pairs')\n",
    "    for i in range(len(unique)):\n",
    "        if i%2==0:\n",
    "            print((unique[i],unique[i+1]))                    \n",
    "    return count"
   ]
  },
  {
   "cell_type": "code",
   "execution_count": 11,
   "metadata": {
    "scrolled": true
   },
   "outputs": [
    {
     "name": "stdout",
     "output_type": "stream",
     "text": [
      "unique pairs\n",
      "(1, 6)\n",
      "(3, 4)\n",
      "(7, 0)\n"
     ]
    },
    {
     "data": {
      "text/plain": [
       "3"
      ]
     },
     "execution_count": 11,
     "metadata": {},
     "output_type": "execute_result"
    }
   ],
   "source": [
    "pair_sum([1,3,2,3,2,2,3,4,3,2,7,9,6,0,4,4],7)"
   ]
  },
  {
   "cell_type": "markdown",
   "metadata": {},
   "source": [
    "### Array Pair Sum - solution 2 "
   ]
  },
  {
   "cell_type": "code",
   "execution_count": 12,
   "metadata": {
    "collapsed": true
   },
   "outputs": [],
   "source": [
    "def pair_sum2(arr,k):\n",
    "    \n",
    "    #  edge case \n",
    "    if len(arr)<2:\n",
    "        return\n",
    "    \n",
    "    # sets for tracking\n",
    "    seen = set()\n",
    "    output = set()\n",
    "    \n",
    "    for num in arr:\n",
    "        target = k-num\n",
    "        \n",
    "        if target not in seen:\n",
    "            seen.add(num)\n",
    "        else:\n",
    "            output.add((min(num,target),max(num,target)))\n",
    "    \n",
    "    print(output)\n",
    "    return len(output)"
   ]
  },
  {
   "cell_type": "code",
   "execution_count": 13,
   "metadata": {},
   "outputs": [
    {
     "name": "stdout",
     "output_type": "stream",
     "text": [
      "{(1, 3), (2, 2)}\n"
     ]
    },
    {
     "data": {
      "text/plain": [
       "2"
      ]
     },
     "execution_count": 13,
     "metadata": {},
     "output_type": "execute_result"
    }
   ],
   "source": [
    "pair_sum2([2,2,1,3],4)"
   ]
  },
  {
   "cell_type": "code",
   "execution_count": null,
   "metadata": {
    "collapsed": true
   },
   "outputs": [],
   "source": []
  }
 ],
 "metadata": {
  "kernelspec": {
   "display_name": "Python 3",
   "language": "python",
   "name": "python3"
  },
  "language_info": {
   "codemirror_mode": {
    "name": "ipython",
    "version": 3
   },
   "file_extension": ".py",
   "mimetype": "text/x-python",
   "name": "python",
   "nbconvert_exporter": "python",
   "pygments_lexer": "ipython3",
   "version": "3.6.3"
  }
 },
 "nbformat": 4,
 "nbformat_minor": 2
}
