{
 "cells": [
  {
   "cell_type": "markdown",
   "metadata": {},
   "source": [
    "#  Array Problems\n",
    "---"
   ]
  },
  {
   "cell_type": "markdown",
   "metadata": {},
   "source": [
    "#  Problem 1:  Anagram Check\n",
    "Given 2 strings check to see if they're an anagram.  \n",
    "Hint:  Remember an anagram is a different phrase that uses the same letters.  \n",
    "Only consider lower case letters (ignore capital) and ignore spaces. \n",
    "\n",
    "#### Examples:  \n",
    "\"public relations\" is an anagram of \"crap built on lies\"  \n",
    "\"clint eastwood\"   is an anagram of \"old west action\"  "
   ]
  },
  {
   "cell_type": "markdown",
   "metadata": {},
   "source": [
    "### Anagram solution 1"
   ]
  },
  {
   "cell_type": "code",
   "execution_count": 1,
   "metadata": {
    "collapsed": true
   },
   "outputs": [],
   "source": [
    "\n",
    "def anagram(str1,str2):\n",
    "    \n",
    "    #  letter dictionaries \n",
    "    s1=dict()\n",
    "    s2=dict()\n",
    "    \n",
    "    #  populate the 2 dictionaries\n",
    "    for element in str1:\n",
    "        if element != ' ':\n",
    "            try:\n",
    "                s1[element.lower()] = s1[element.lower()]+1\n",
    "            except: \n",
    "                s1[element.lower()] = 1\n",
    "                \n",
    "    for element in str2:\n",
    "        if element != ' ':\n",
    "            try:\n",
    "                s2[element.lower()] = s2[element.lower()]+1\n",
    "            except: \n",
    "                s2[element.lower()] = 1\n",
    "                \n",
    "    return s1==s2        "
   ]
  },
  {
   "cell_type": "code",
   "execution_count": 2,
   "metadata": {},
   "outputs": [
    {
     "data": {
      "text/plain": [
       "False"
      ]
     },
     "execution_count": 2,
     "metadata": {},
     "output_type": "execute_result"
    }
   ],
   "source": [
    "anagram('my dog dog','my dog dig')"
   ]
  },
  {
   "cell_type": "code",
   "execution_count": 3,
   "metadata": {},
   "outputs": [
    {
     "data": {
      "text/plain": [
       "True"
      ]
     },
     "execution_count": 3,
     "metadata": {},
     "output_type": "execute_result"
    }
   ],
   "source": [
    "anagram('my dog dog','my god  dog')"
   ]
  },
  {
   "cell_type": "code",
   "execution_count": 4,
   "metadata": {},
   "outputs": [
    {
     "data": {
      "text/plain": [
       "True"
      ]
     },
     "execution_count": 4,
     "metadata": {},
     "output_type": "execute_result"
    }
   ],
   "source": [
    "anagram(\"public relations\",\"crap built on lies\")"
   ]
  },
  {
   "cell_type": "code",
   "execution_count": 5,
   "metadata": {},
   "outputs": [
    {
     "data": {
      "text/plain": [
       "True"
      ]
     },
     "execution_count": 5,
     "metadata": {},
     "output_type": "execute_result"
    }
   ],
   "source": [
    "anagram(\"clint eastwood\",\"old west action\")"
   ]
  },
  {
   "cell_type": "markdown",
   "metadata": {},
   "source": [
    "### Anagram solution 2"
   ]
  },
  {
   "cell_type": "code",
   "execution_count": 6,
   "metadata": {
    "collapsed": true
   },
   "outputs": [],
   "source": [
    "def anagram2(s1,s2):\n",
    "    s1 = s1.replace(' ','').lower()\n",
    "    s2 = s2.replace(' ','').lower()\n",
    "    return sorted(s1)==sorted(s2)"
   ]
  },
  {
   "cell_type": "code",
   "execution_count": 7,
   "metadata": {},
   "outputs": [
    {
     "data": {
      "text/plain": [
       "True"
      ]
     },
     "execution_count": 7,
     "metadata": {},
     "output_type": "execute_result"
    }
   ],
   "source": [
    "anagram2(\"clint eastwood\",\"old west action\")"
   ]
  },
  {
   "cell_type": "markdown",
   "metadata": {
    "collapsed": true
   },
   "source": [
    "### Anagram solution 3 - Explicit Form, best for interviews"
   ]
  },
  {
   "cell_type": "code",
   "execution_count": 8,
   "metadata": {
    "collapsed": true
   },
   "outputs": [],
   "source": [
    "def anagram3(s1,s2):\n",
    "    s1 = s1.replace(' ','').lower()\n",
    "    s2 = s2.replace(' ','').lower()\n",
    "    \n",
    "    # Edge case check \n",
    "    if len(s1) != len(s2):\n",
    "        return False \n",
    "    \n",
    "    count = {}\n",
    "    \n",
    "    # count up\n",
    "    for letter in s1: \n",
    "        # if letter is in count dictionary\n",
    "        if letter in count:\n",
    "            count[letter]+=1\n",
    "        else: \n",
    "            count[letter]=1\n",
    "    \n",
    "    # count down for s2\n",
    "    for letter in s2: \n",
    "        if letter in count:\n",
    "            count[letter]-=1\n",
    "        else:\n",
    "            count[letter] = 1\n",
    "    \n",
    "    for k in count:\n",
    "        if count[k]!=0:\n",
    "            return False\n",
    "    \n",
    "    return True\n",
    "        "
   ]
  },
  {
   "cell_type": "code",
   "execution_count": 9,
   "metadata": {},
   "outputs": [
    {
     "data": {
      "text/plain": [
       "True"
      ]
     },
     "execution_count": 9,
     "metadata": {},
     "output_type": "execute_result"
    }
   ],
   "source": [
    "anagram3(\"clint eastwood\",\"old west action\")"
   ]
  },
  {
   "cell_type": "markdown",
   "metadata": {},
   "source": [
    "#  Problem 2:  Array Pair Sum\n",
    "---\n",
    "Given an integer array, output all the _unique_ pairs that sum up to a specific value __k__.  \n",
    "\n",
    "So the input:  \n",
    "\n",
    "pair_sum([1,3,2,2],4)  \n",
    "\n",
    "would return 2 pairs:  \n",
    "(1,3)  \n",
    "(2,2)\n"
   ]
  },
  {
   "cell_type": "markdown",
   "metadata": {},
   "source": [
    "### Array Pair sum - solution 1 "
   ]
  },
  {
   "cell_type": "code",
   "execution_count": 10,
   "metadata": {
    "collapsed": true
   },
   "outputs": [],
   "source": [
    "def pair_sum(arr,k):    \n",
    "    \n",
    "    count=0\n",
    "    unique=[]\n",
    "    \n",
    "    #  from 0 to k, find number of unique (i,k-i) pairs \n",
    "    \n",
    "    for i in range(len(arr)):\n",
    "        if k-arr[i] in arr:\n",
    "            if arr[i] not in unique:\n",
    "                count+=1\n",
    "                unique.append(arr[i])\n",
    "                unique.append(k-arr[i])\n",
    "    \n",
    "    print('unique pairs')\n",
    "    for i in range(len(unique)):\n",
    "        if i%2==0:\n",
    "            print((unique[i],unique[i+1]))                    \n",
    "    return count"
   ]
  },
  {
   "cell_type": "code",
   "execution_count": 11,
   "metadata": {
    "scrolled": true
   },
   "outputs": [
    {
     "name": "stdout",
     "output_type": "stream",
     "text": [
      "unique pairs\n",
      "(1, 6)\n",
      "(3, 4)\n",
      "(7, 0)\n"
     ]
    },
    {
     "data": {
      "text/plain": [
       "3"
      ]
     },
     "execution_count": 11,
     "metadata": {},
     "output_type": "execute_result"
    }
   ],
   "source": [
    "pair_sum([1,3,2,3,2,2,3,4,3,2,7,9,6,0,4,4],7)"
   ]
  },
  {
   "cell_type": "markdown",
   "metadata": {},
   "source": [
    "### Array Pair Sum - solution 2 "
   ]
  },
  {
   "cell_type": "code",
   "execution_count": 12,
   "metadata": {
    "collapsed": true
   },
   "outputs": [],
   "source": [
    "def pair_sum2(arr,k):\n",
    "    \n",
    "    #  edge case \n",
    "    if len(arr)<2:\n",
    "        return\n",
    "    \n",
    "    # sets for tracking\n",
    "    seen = set()\n",
    "    output = set()\n",
    "    \n",
    "    for num in arr:\n",
    "        target = k-num\n",
    "        \n",
    "        if target not in seen:\n",
    "            seen.add(num)\n",
    "        else:\n",
    "            output.add((min(num,target),max(num,target)))\n",
    "    \n",
    "    print(output)\n",
    "    return len(output)"
   ]
  },
  {
   "cell_type": "code",
   "execution_count": 13,
   "metadata": {},
   "outputs": [
    {
     "name": "stdout",
     "output_type": "stream",
     "text": [
      "{(1, 3), (2, 2)}\n"
     ]
    },
    {
     "data": {
      "text/plain": [
       "2"
      ]
     },
     "execution_count": 13,
     "metadata": {},
     "output_type": "execute_result"
    }
   ],
   "source": [
    "pair_sum2([2,2,1,3],4)"
   ]
  },
  {
   "cell_type": "markdown",
   "metadata": {},
   "source": [
    "# Problem 3 - Find the Missing Element\n",
    "---\n",
    "\n",
    "Consider non-negative integer arrays.  A second array is formed by shuffling the elements of the first array and deleting a random element.  Given these two arrays, find which element is missing in the second array.  \n",
    "\n",
    "Example:  5 is removed\n",
    "\n",
    "finder([1,2,3,4,5,6,7],[3,7,2,1,4,6]) = 5 is the missing number. "
   ]
  },
  {
   "cell_type": "markdown",
   "metadata": {},
   "source": [
    "###  Missing Element - Solution 1"
   ]
  },
  {
   "cell_type": "code",
   "execution_count": 3,
   "metadata": {
    "collapsed": true
   },
   "outputs": [],
   "source": [
    "def finder(arr1,arr2):\n",
    "    \n",
    "    for item in arr1:\n",
    "        if item in arr2:\n",
    "            pass\n",
    "        else:\n",
    "            print('{} is the missing number'.format(item))\n",
    "            #return item \n",
    "            "
   ]
  },
  {
   "cell_type": "code",
   "execution_count": 4,
   "metadata": {},
   "outputs": [
    {
     "name": "stdout",
     "output_type": "stream",
     "text": [
      "2 is the missing number\n"
     ]
    }
   ],
   "source": [
    "finder([1,2,3,4],[3,4,1])"
   ]
  },
  {
   "cell_type": "markdown",
   "metadata": {},
   "source": [
    "### Missing Element - Solution 2"
   ]
  },
  {
   "cell_type": "code",
   "execution_count": 1,
   "metadata": {},
   "outputs": [
    {
     "name": "stdout",
     "output_type": "stream",
     "text": [
      "5\n"
     ]
    }
   ],
   "source": [
    "def finder2(arr1,arr2):\n",
    "#  check order complexity\n",
    "    arr1.sort()\n",
    "    arr2.sort()\n",
    "\n",
    "    for num1,num2 in zip(arr1,arr2):\n",
    "        if num1 != num2:\n",
    "            return num1\n",
    "    return arr1[-1]\n",
    "\n",
    "a1 = [1,2,3,4,5,6,7]\n",
    "a2 = [3,7,2,1,4,6]\n",
    "print(finder2(a1,a2))"
   ]
  },
  {
   "cell_type": "markdown",
   "metadata": {},
   "source": [
    "###  Missing Element - Solution 3"
   ]
  },
  {
   "cell_type": "code",
   "execution_count": 6,
   "metadata": {},
   "outputs": [
    {
     "name": "stdout",
     "output_type": "stream",
     "text": [
      "solution #3\n",
      "5\n"
     ]
    }
   ],
   "source": [
    "print('solution #3')\n",
    "\n",
    "import collections\n",
    "\n",
    "def finder3(arr1,arr2):\n",
    "    d = collections.defaultdict(int)\n",
    "\n",
    "    for num in arr2:\n",
    "        d[num]+=1\n",
    "    for num in arr1:\n",
    "        if d[num]==0:\n",
    "            return num\n",
    "        else:\n",
    "            d[num]-=1\n",
    "\n",
    "a1 = [1,2,3,4,5,6,7]\n",
    "a2 = [3,7,2,1,4,6]\n",
    "print(finder3(a1,a2))"
   ]
  },
  {
   "cell_type": "markdown",
   "metadata": {},
   "source": [
    "###  Missing Element - Solution 4"
   ]
  },
  {
   "cell_type": "code",
   "execution_count": 10,
   "metadata": {},
   "outputs": [
    {
     "name": "stdout",
     "output_type": "stream",
     "text": [
      "solution #4 - Linear Time (XOR)\n",
      "5\n"
     ]
    }
   ],
   "source": [
    "print('solution #4 - Linear Time (XOR)')\n",
    "\n",
    "def finder4(arr1,arr2):\n",
    "        result = 0\n",
    "        # XOR arrays\n",
    "        for num in arr1+arr2:\n",
    "            result^=num\n",
    "            #print(result)\n",
    "        return result\n",
    "\n",
    "a1 = [1,2,3,4,5,6,7]\n",
    "a2 = [3,7,2,1,4,6]\n",
    "print(finder4(a1,a2))\n"
   ]
  },
  {
   "cell_type": "markdown",
   "metadata": {},
   "source": [
    "#  Problem 4 - Largest Continuous Sum\n",
    "---\n",
    "Given an array of integers (postive and negative) find the largest continous sum.  \n",
    "\n",
    "__Hint__:  If the array is all positive it's the sum of the whole array, negative numbers will require to checking sequences. Checking the sequences is done by comparing using the max() function.  "
   ]
  },
  {
   "cell_type": "code",
   "execution_count": 51,
   "metadata": {
    "collapsed": true
   },
   "outputs": [],
   "source": [
    "def large_cont_sum(arr):\n",
    "    \n",
    "    #  length zero\n",
    "    if len(arr) == 0:\n",
    "        return 0\n",
    "    \n",
    "    max_sum = current_sum = arr[0]\n",
    "    \n",
    "    for num in arr[1:]:\n",
    "        \n",
    "        current_sum = max(current_sum+num,num)\n",
    "        max_sum = max(current_sum,max_sum)\n",
    "        #print(current_sum)\n",
    "        \n",
    "    return max_sum"
   ]
  },
  {
   "cell_type": "code",
   "execution_count": 52,
   "metadata": {},
   "outputs": [
    {
     "data": {
      "text/plain": [
       "29"
      ]
     },
     "execution_count": 52,
     "metadata": {},
     "output_type": "execute_result"
    }
   ],
   "source": [
    "large_cont_sum([1,2,-1,3,4,10,10,-10,-1])"
   ]
  },
  {
   "cell_type": "markdown",
   "metadata": {},
   "source": [
    "#  Problem 5 - Sentence Reversal \n",
    "---\n",
    "Given a string of words, reverse all the words.  Remove leading and trailing whitespace as well.  \n",
    "\n",
    "Example: \n",
    "'This is the best'  becomes 'best the is This'"
   ]
  },
  {
   "cell_type": "markdown",
   "metadata": {},
   "source": [
    "###  Sentence Reversal - Solution 1"
   ]
  },
  {
   "cell_type": "code",
   "execution_count": 120,
   "metadata": {
    "collapsed": true
   },
   "outputs": [],
   "source": [
    "def rev_word(str):\n",
    "    \n",
    "    split_str = str.split()\n",
    "    backwards = []\n",
    "    \n",
    "    for i in range(len(split_str)):\n",
    "        backwards.append(split_str[-i-1])\n",
    "    \n",
    "    return ' '.join(backwards)"
   ]
  },
  {
   "cell_type": "code",
   "execution_count": 124,
   "metadata": {},
   "outputs": [
    {
     "data": {
      "text/plain": [
       "'today good Apple'"
      ]
     },
     "execution_count": 124,
     "metadata": {},
     "output_type": "execute_result"
    }
   ],
   "source": [
    "rev_word('         Apple good today               ')"
   ]
  },
  {
   "cell_type": "markdown",
   "metadata": {},
   "source": [
    "### Sentence Reversal - Solution 2 (No split function)"
   ]
  },
  {
   "cell_type": "code",
   "execution_count": 129,
   "metadata": {
    "collapsed": true
   },
   "outputs": [],
   "source": [
    "def rev_word2(s):\n",
    "    words=[]\n",
    "    length = len(s)\n",
    "    spaces=[' ']\n",
    "    \n",
    "    i = 0\n",
    "    \n",
    "    while i < length:\n",
    "        if s[i] not in spaces:\n",
    "            word_start = i\n",
    "            \n",
    "            while i < length and s[i] not in spaces:\n",
    "                i+=1\n",
    "                \n",
    "            words.append(s[word_start:i])\n",
    "        i+=1  #  go past the next space  \n",
    "    return \" \".join(reversed(words))"
   ]
  },
  {
   "cell_type": "code",
   "execution_count": 131,
   "metadata": {},
   "outputs": [
    {
     "data": {
      "text/plain": [
       "'cool is john'"
      ]
     },
     "execution_count": 131,
     "metadata": {},
     "output_type": "execute_result"
    }
   ],
   "source": [
    "rev_word2('john is cool')"
   ]
  },
  {
   "cell_type": "markdown",
   "metadata": {},
   "source": [
    "#  Problem 5 - String Compression\n",
    "---\n",
    "Given a string in the form 'AAAABBBBCC' compress to become 'A4B4C2'.  Note this is case sensitive, so 'AAAaaa' should return 'A3a3'"
   ]
  },
  {
   "cell_type": "code",
   "execution_count": 214,
   "metadata": {
    "collapsed": true
   },
   "outputs": [],
   "source": [
    "def String_Compress(input_str):\n",
    "    \n",
    "    comp_dict = {}\n",
    "    comp_str = ''\n",
    "    \n",
    "    for item in input_str:\n",
    "        if item in comp_dict:\n",
    "            comp_dict[item]+=1\n",
    "        else:\n",
    "            comp_dict[item]=1\n",
    "    \n",
    "    \n",
    "    for key,value in comp_dict.items():\n",
    "        comp_str = comp_str + key\n",
    "        comp_str = comp_str + str(value)\n",
    "    \n",
    "    return comp_str\n",
    "    "
   ]
  },
  {
   "cell_type": "code",
   "execution_count": 216,
   "metadata": {},
   "outputs": [
    {
     "data": {
      "text/plain": [
       "'A4B2a3R2T1E7'"
      ]
     },
     "execution_count": 216,
     "metadata": {},
     "output_type": "execute_result"
    }
   ],
   "source": [
    "String_Compress('AAAABBaaaRRTEEEEEEE')"
   ]
  },
  {
   "cell_type": "code",
   "execution_count": null,
   "metadata": {
    "collapsed": true
   },
   "outputs": [],
   "source": []
  }
 ],
 "metadata": {
  "kernelspec": {
   "display_name": "Python 3",
   "language": "python",
   "name": "python3"
  },
  "language_info": {
   "codemirror_mode": {
    "name": "ipython",
    "version": 3
   },
   "file_extension": ".py",
   "mimetype": "text/x-python",
   "name": "python",
   "nbconvert_exporter": "python",
   "pygments_lexer": "ipython3",
   "version": "3.6.3"
  }
 },
 "nbformat": 4,
 "nbformat_minor": 2
}
