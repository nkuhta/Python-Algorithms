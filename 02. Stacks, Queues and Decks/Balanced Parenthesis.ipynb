{
 "cells": [
  {
   "cell_type": "markdown",
   "metadata": {},
   "source": [
    "# Balanced Parenthesis Check\n",
    "---\n",
    "*  Given a string of opening and closing parenthesis, check whether it's balanced.  \n",
    "*  Given: Round (), Square [], and Curly {} Brackets\n",
    "*  Assume string has no spaces, letters, numbers. \n",
    "\n",
    "*  Example:  '[](){{[[]]}}' is balanced \n"
   ]
  },
  {
   "cell_type": "markdown",
   "metadata": {},
   "source": [
    "### use Stack Class"
   ]
  },
  {
   "cell_type": "code",
   "execution_count": 1,
   "metadata": {
    "collapsed": true
   },
   "outputs": [],
   "source": [
    " class Stack(object):\n",
    "        \n",
    "        def __init__(self):\n",
    "            self.lst = []\n",
    "            \n",
    "        def isEmpty(self):\n",
    "            return self.lst == []\n",
    "        \n",
    "        def push(self,item):\n",
    "            self.lst.append(item)\n",
    "            \n",
    "        def pop(self):\n",
    "            return self.lst.pop()\n",
    "        \n",
    "        def peek(self):\n",
    "            return self.lst[-1]\n",
    "            \n",
    "        def size(self):\n",
    "            return len(self.lst)   "
   ]
  },
  {
   "cell_type": "markdown",
   "metadata": {},
   "source": [
    "### balance_check function solution\n",
    "---\n",
    "Strategy is to make sure every closing bracket that you come across \n",
    "\n",
    "while tranversing the input string is equal to the last seen opening bracket."
   ]
  },
  {
   "cell_type": "code",
   "execution_count": 2,
   "metadata": {
    "collapsed": true
   },
   "outputs": [],
   "source": [
    "def balance_check(str):\n",
    "    \n",
    "    open = Stack()\n",
    "    solution = []\n",
    "    \n",
    "    for item in str:\n",
    "        if item == '(':\n",
    "            open.push(1)\n",
    "        if item == '[':\n",
    "            open.push(2)\n",
    "        if item == \"{\":\n",
    "            open.push(3)\n",
    "        if item == ')':\n",
    "            last_open = open.pop()\n",
    "            solution.append(1 == last_open)\n",
    "        if item == ']':\n",
    "            last_open = open.pop()\n",
    "            solution.append(2 == last_open)\n",
    "        if item == \"}\":\n",
    "            last_open = open.pop()\n",
    "            solution.append(3 == last_open)\n",
    "  \n",
    "\n",
    "        \n",
    "    return int(len(str)/2)==sum(solution)"
   ]
  },
  {
   "cell_type": "code",
   "execution_count": 3,
   "metadata": {},
   "outputs": [
    {
     "data": {
      "text/plain": [
       "False"
      ]
     },
     "execution_count": 3,
     "metadata": {},
     "output_type": "execute_result"
    }
   ],
   "source": [
    "balance_check('[]{}([())]')"
   ]
  },
  {
   "cell_type": "code",
   "execution_count": 4,
   "metadata": {},
   "outputs": [
    {
     "data": {
      "text/plain": [
       "True"
      ]
     },
     "execution_count": 4,
     "metadata": {},
     "output_type": "execute_result"
    }
   ],
   "source": [
    "balance_check('[]{}')"
   ]
  },
  {
   "cell_type": "code",
   "execution_count": 5,
   "metadata": {},
   "outputs": [
    {
     "data": {
      "text/plain": [
       "True"
      ]
     },
     "execution_count": 5,
     "metadata": {},
     "output_type": "execute_result"
    }
   ],
   "source": [
    "balance_check('[]{}()()[{}]')"
   ]
  },
  {
   "cell_type": "code",
   "execution_count": 6,
   "metadata": {},
   "outputs": [
    {
     "data": {
      "text/plain": [
       "False"
      ]
     },
     "execution_count": 6,
     "metadata": {},
     "output_type": "execute_result"
    }
   ],
   "source": [
    "balance_check('[]{}(()[)]')"
   ]
  },
  {
   "cell_type": "code",
   "execution_count": null,
   "metadata": {
    "collapsed": true
   },
   "outputs": [],
   "source": []
  },
  {
   "cell_type": "code",
   "execution_count": null,
   "metadata": {
    "collapsed": true
   },
   "outputs": [],
   "source": []
  }
 ],
 "metadata": {
  "kernelspec": {
   "display_name": "Python 3",
   "language": "python",
   "name": "python3"
  },
  "language_info": {
   "codemirror_mode": {
    "name": "ipython",
    "version": 3
   },
   "file_extension": ".py",
   "mimetype": "text/x-python",
   "name": "python",
   "nbconvert_exporter": "python",
   "pygments_lexer": "ipython3",
   "version": "3.6.3"
  }
 },
 "nbformat": 4,
 "nbformat_minor": 2
}
