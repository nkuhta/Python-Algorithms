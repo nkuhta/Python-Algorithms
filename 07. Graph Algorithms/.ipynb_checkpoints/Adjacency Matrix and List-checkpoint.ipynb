{
 "cells": [
  {
   "cell_type": "markdown",
   "metadata": {},
   "source": [
    "# Adjacency Matrix\n",
    "---\n",
    "*  Simple way to make a graph\n",
    "*  Element at row v and column w indicates the weight of the edge from vertex v to vertex w.  \n",
    "*  Usually the number of edges is low and matrix is sparse. "
   ]
  },
  {
   "cell_type": "code",
   "execution_count": null,
   "metadata": {
    "collapsed": true
   },
   "outputs": [],
   "source": []
  },
  {
   "cell_type": "markdown",
   "metadata": {},
   "source": [
    "# Adjacency List\n",
    "---\n",
    "* More efficient way to implement sparsely connected graph.\n",
    "* Master list of vertices. \n",
    "* Each vertex object maintains list of it's other vertix connections. \n",
    "* Compactly store sparse data. "
   ]
  },
  {
   "cell_type": "code",
   "execution_count": 1,
   "metadata": {
    "collapsed": true
   },
   "outputs": [],
   "source": [
    "class Vertex:\n",
    "    \n",
    "    def __init__(self,key):\n",
    "        self.id = key           # vertex key value\n",
    "        self.connectedTo = {}   # Vertex connection dictionary \n",
    "    \n",
    "    #  Add neighbor vertex with key nbr, and a weight. \n",
    "    def addNeighbor(self,nbr,weight):\n",
    "        self.connectedTo[nbr] = weight\n",
    "        \n",
    "    def getConnections(self):\n",
    "        return self.connectedTo.keys()\n",
    "    \n",
    "    def getID(self):\n",
    "        return self.id\n",
    "    \n",
    "    def getWeight(self,nbr):\n",
    "        return self.connectedTo[nbr]\n",
    "    \n",
    "    def __str__(self):\n",
    "        return str(self.id)+ ' connected to: ' + str([x.id for x in self.connectedTo])\n",
    "        "
   ]
  },
  {
   "cell_type": "code",
   "execution_count": 2,
   "metadata": {
    "collapsed": true
   },
   "outputs": [],
   "source": [
    "class Graph: \n",
    "    \n",
    "    def __init__(self):\n",
    "        self.vertList = {}\n",
    "        self.numVertices = 0\n",
    "        \n",
    "    def addVertex(self,key):\n",
    "        self.numVertices += 1\n",
    "        newVertex = Vertex(key)\n",
    "        self.vertList[key] = newVertex\n",
    "        return newVertex\n",
    "    \n",
    "    def getVertex(self,n):\n",
    "        if n in self.vertList:\n",
    "            return self.vertList[n]\n",
    "        else: \n",
    "            return None\n",
    "        \n",
    "    def addEdge(self,frm,to,cost=0):\n",
    "        if frm not in self.vertList:\n",
    "            nv = self.addVertex(frm)\n",
    "        if to not in self.vertList:\n",
    "            nv = self.addVertex(to)\n",
    "        \n",
    "        self.vertList[frm].addNeighbor(self.vertList[to],cost)\n",
    "        \n",
    "    def getVertices(self): \n",
    "        return self.vertList.keys()\n",
    "    \n",
    "    def __iter__(self):\n",
    "        return iter(self.vertList.values())\n",
    "    \n",
    "    def __contains__(self):\n",
    "        return n in self.vertList\n",
    "    "
   ]
  },
  {
   "cell_type": "code",
   "execution_count": 3,
   "metadata": {
    "collapsed": true
   },
   "outputs": [],
   "source": [
    "g = Graph()"
   ]
  },
  {
   "cell_type": "code",
   "execution_count": 4,
   "metadata": {
    "collapsed": true
   },
   "outputs": [],
   "source": [
    "for i in range(6):\n",
    "    g.addVertex(i)"
   ]
  },
  {
   "cell_type": "code",
   "execution_count": 5,
   "metadata": {},
   "outputs": [
    {
     "data": {
      "text/plain": [
       "{0: <__main__.Vertex at 0x1b658d9a198>,\n",
       " 1: <__main__.Vertex at 0x1b658d9a390>,\n",
       " 2: <__main__.Vertex at 0x1b658d9a320>,\n",
       " 3: <__main__.Vertex at 0x1b658d9a470>,\n",
       " 4: <__main__.Vertex at 0x1b658d9a518>,\n",
       " 5: <__main__.Vertex at 0x1b658d9a2e8>}"
      ]
     },
     "execution_count": 5,
     "metadata": {},
     "output_type": "execute_result"
    }
   ],
   "source": [
    "g.vertList"
   ]
  },
  {
   "cell_type": "code",
   "execution_count": 6,
   "metadata": {
    "collapsed": true
   },
   "outputs": [],
   "source": [
    "#  add Edge from 0 to 1 with weight 2.  \n",
    "g.addEdge(0,1,2)"
   ]
  },
  {
   "cell_type": "code",
   "execution_count": 7,
   "metadata": {},
   "outputs": [
    {
     "name": "stdout",
     "output_type": "stream",
     "text": [
      "0 connected to: [1]\n",
      "dict_keys([<__main__.Vertex object at 0x000001B658D9A390>])\n",
      "1 connected to: []\n",
      "dict_keys([])\n",
      "2 connected to: []\n",
      "dict_keys([])\n",
      "3 connected to: []\n",
      "dict_keys([])\n",
      "4 connected to: []\n",
      "dict_keys([])\n",
      "5 connected to: []\n",
      "dict_keys([])\n"
     ]
    }
   ],
   "source": [
    "for vertex in g:\n",
    "    print(vertex)\n",
    "    print(vertex.getConnections())"
   ]
  },
  {
   "cell_type": "code",
   "execution_count": null,
   "metadata": {
    "collapsed": true
   },
   "outputs": [],
   "source": []
  }
 ],
 "metadata": {
  "kernelspec": {
   "display_name": "Python 3",
   "language": "python",
   "name": "python3"
  },
  "language_info": {
   "codemirror_mode": {
    "name": "ipython",
    "version": 3
   },
   "file_extension": ".py",
   "mimetype": "text/x-python",
   "name": "python",
   "nbconvert_exporter": "python",
   "pygments_lexer": "ipython3",
   "version": "3.6.3"
  }
 },
 "nbformat": 4,
 "nbformat_minor": 2
}
