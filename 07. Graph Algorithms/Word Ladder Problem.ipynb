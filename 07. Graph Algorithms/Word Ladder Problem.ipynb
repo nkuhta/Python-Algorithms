{
 "cells": [
  {
   "cell_type": "code",
   "execution_count": 1,
   "metadata": {
    "collapsed": true
   },
   "outputs": [],
   "source": [
    "class Vertex:\n",
    "    \n",
    "    def __init__(self,key):\n",
    "        self.id = key           # vertex key value\n",
    "        self.connectedTo = {}   # Vertex connection dictionary \n",
    "    \n",
    "    #  Add neighbor vertex with key nbr, and a weight. \n",
    "    def addNeighbor(self,nbr,weight):\n",
    "        self.connectedTo[nbr] = weight\n",
    "        \n",
    "    def getConnections(self):\n",
    "        return self.connectedTo.keys()\n",
    "    \n",
    "    def getID(self):\n",
    "        return self.id\n",
    "    \n",
    "    def getWeight(self,nbr):\n",
    "        return self.connectedTo[nbr]\n",
    "    \n",
    "    def __str__(self):\n",
    "        return str(self.id)+ ' connected to: ' + str([x.id for x in self.connectedTo])\n",
    "        "
   ]
  },
  {
   "cell_type": "code",
   "execution_count": 2,
   "metadata": {
    "collapsed": true
   },
   "outputs": [],
   "source": [
    "class Graph: \n",
    "    \n",
    "    def __init__(self):\n",
    "        self.vertList = {}\n",
    "        self.numVertices = 0\n",
    "        \n",
    "    def addVertex(self,key):\n",
    "        self.numVertices += 1\n",
    "        newVertex = Vertex(key)\n",
    "        self.vertList[key] = newVertex\n",
    "        return newVertex\n",
    "    \n",
    "    def getVertex(self,n):\n",
    "        if n in self.vertList:\n",
    "            return self.vertList[n]\n",
    "        else: \n",
    "            return None\n",
    "        \n",
    "    def addEdge(self,frm,to,cost=0):\n",
    "        if frm not in self.vertList:\n",
    "            nv = self.addVertex(frm)\n",
    "        if to not in self.vertList:\n",
    "            nv = self.addVertex(to)\n",
    "        \n",
    "        self.vertList[frm].addNeighbor(self.vertList[to],cost)\n",
    "        \n",
    "    def getVertices(self): \n",
    "        return self.vertList.keys()\n",
    "    \n",
    "    def __iter__(self):\n",
    "        return iter(self.vertList.values())\n",
    "    \n",
    "    def __contains__(self):\n",
    "        return n in self.vertList"
   ]
  },
  {
   "cell_type": "code",
   "execution_count": 3,
   "metadata": {},
   "outputs": [],
   "source": [
    "def buildGraph(wordFile):\n",
    "    d = {}\n",
    "    g = Graph()\n",
    "    \n",
    "    wfile = open(wordFile,'r')\n",
    "    #  buckets of words that differ by one letter\n",
    "    for line in wfile:\n",
    "        print(line)\n",
    "        word = line[:-1]\n",
    "        print(word)\n",
    "        for i in range(len(word)):\n",
    "            bucket = word[:i]+ '_' +word[i+1:]\n",
    "            if bucket in d:\n",
    "                d[bucket].append(word)\n",
    "            else: \n",
    "                d[bucket]=[word]\n",
    "    # add vertices and edges for words in the same bucket\n",
    "    for bucket in d.keys():\n",
    "        for word1 in d[bucket]:\n",
    "            for word2 in d[bucket]:\n",
    "                if word1 != word2:\n",
    "                    g.addEdge(word1,word2)\n",
    "    return g    "
   ]
  },
  {
   "cell_type": "code",
   "execution_count": null,
   "metadata": {
    "collapsed": true
   },
   "outputs": [],
   "source": []
  }
 ],
 "metadata": {
  "kernelspec": {
   "display_name": "Python 3",
   "language": "python",
   "name": "python3"
  },
  "language_info": {
   "codemirror_mode": {
    "name": "ipython",
    "version": 3
   },
   "file_extension": ".py",
   "mimetype": "text/x-python",
   "name": "python",
   "nbconvert_exporter": "python",
   "pygments_lexer": "ipython3",
   "version": "3.6.3"
  }
 },
 "nbformat": 4,
 "nbformat_minor": 2
}
