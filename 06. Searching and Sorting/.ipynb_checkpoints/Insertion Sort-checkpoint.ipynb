{
 "cells": [
  {
   "cell_type": "markdown",
   "metadata": {},
   "source": [
    "# Insertion Sort\n",
    "---\n",
    "* Always maintains a sorted sublist.\n",
    "* Each new item is inserted into sublist in order by checking with elements starting with large end values and comparing until you get to a smaller value. "
   ]
  },
  {
   "cell_type": "code",
   "execution_count": 1,
   "metadata": {},
   "outputs": [],
   "source": [
    "def insertion_sort(arr):\n",
    "    \n",
    "    # for every value in the array\n",
    "    for i in range(1,len(arr)):\n",
    "        \n",
    "        current_value = arr[i]\n",
    "        position = i\n",
    "        \n",
    "        # sorted sublist\n",
    "        \n",
    "    #  while position isn't at first element, and current_value < previous position\n",
    "        while position > 0 and  current_value < arr[position-1]:\n",
    "            \n",
    "            arr[position] = arr[position-1]   # switch \n",
    "            position = position - 1           # get ready to check again on lesser item next\n",
    "            \n",
    "        arr[position] = current_value"
   ]
  },
  {
   "cell_type": "code",
   "execution_count": 2,
   "metadata": {},
   "outputs": [
    {
     "data": {
      "text/plain": [
       "[1, 1, 2, 4, 13, 32, 33, 41, 78]"
      ]
     },
     "execution_count": 2,
     "metadata": {},
     "output_type": "execute_result"
    }
   ],
   "source": [
    "arr = [4,1,33,78,2,32,41,13,1]\n",
    "insertion_sort(arr)\n",
    "arr"
   ]
  },
  {
   "cell_type": "code",
   "execution_count": null,
   "metadata": {
    "collapsed": true
   },
   "outputs": [],
   "source": []
  }
 ],
 "metadata": {
  "kernelspec": {
   "display_name": "Python 3",
   "language": "python",
   "name": "python3"
  },
  "language_info": {
   "codemirror_mode": {
    "name": "ipython",
    "version": 3
   },
   "file_extension": ".py",
   "mimetype": "text/x-python",
   "name": "python",
   "nbconvert_exporter": "python",
   "pygments_lexer": "ipython3",
   "version": "3.6.3"
  }
 },
 "nbformat": 4,
 "nbformat_minor": 2
}
