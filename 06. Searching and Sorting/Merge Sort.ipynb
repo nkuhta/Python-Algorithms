{
 "cells": [
  {
   "cell_type": "markdown",
   "metadata": {},
   "source": [
    "# Merge Sort\n",
    "---\n",
    "* Divide and conquer recursive strategy \n",
    "* Recursively split list in half, and recursively merge and sort back.  \n",
    "* O(n log n)"
   ]
  },
  {
   "cell_type": "code",
   "execution_count": 9,
   "metadata": {},
   "outputs": [],
   "source": [
    "def merge_sort(arr):\n",
    "    \n",
    "     \n",
    "    if len(arr) > 1:\n",
    "        \n",
    "            mid = len(arr)//2\n",
    "            left_half = arr[:mid]\n",
    "            right_half = arr[mid:]\n",
    "            print(arr)\n",
    "            # recursive call\n",
    "            merge_sort(left_half)\n",
    "            merge_sort(right_half)\n",
    "            \n",
    "            i = 0   # left\n",
    "            j = 0   # right\n",
    "            k = 0   # final result\n",
    "            \n",
    "            #  Merging the sublists\n",
    "            \n",
    "            #  While there are elements left in both arrays \n",
    "            while i < len(left_half) and j < len(right_half):\n",
    "                \n",
    "                if left_half[i] < right_half[j]:\n",
    "                    arr[k] = left_half[i]\n",
    "                    i += 1\n",
    "                \n",
    "                else:\n",
    "                    arr[k] = right_half[j]\n",
    "                    j += 1\n",
    "                \n",
    "                k+=1\n",
    "            \n",
    "            while i < len(left_half):\n",
    "                arr[k] = left_half[i]\n",
    "                i+=1\n",
    "                k+=1\n",
    "                \n",
    "            while j < len(right_half):\n",
    "                arr[k] = right_half[j]\n",
    "                j+=1\n",
    "                k+=1\n",
    "            print('k = ',k)            \n",
    "    print('Merging: ',arr)"
   ]
  },
  {
   "cell_type": "code",
   "execution_count": 10,
   "metadata": {},
   "outputs": [
    {
     "name": "stdout",
     "output_type": "stream",
     "text": [
      "[10, 100, 4, 5, 33, 21, 1, 9]\n",
      "[10, 100, 4, 5]\n",
      "[10, 100]\n",
      "Merging:  [10]\n",
      "Merging:  [100]\n",
      "k =  2\n",
      "Merging:  [10, 100]\n",
      "[4, 5]\n",
      "Merging:  [4]\n",
      "Merging:  [5]\n",
      "k =  2\n",
      "Merging:  [4, 5]\n",
      "k =  4\n",
      "Merging:  [4, 5, 10, 100]\n",
      "[33, 21, 1, 9]\n",
      "[33, 21]\n",
      "Merging:  [33]\n",
      "Merging:  [21]\n",
      "k =  2\n",
      "Merging:  [21, 33]\n",
      "[1, 9]\n",
      "Merging:  [1]\n",
      "Merging:  [9]\n",
      "k =  2\n",
      "Merging:  [1, 9]\n",
      "k =  4\n",
      "Merging:  [1, 9, 21, 33]\n",
      "k =  8\n",
      "Merging:  [1, 4, 5, 9, 10, 21, 33, 100]\n"
     ]
    },
    {
     "data": {
      "text/plain": [
       "[1, 4, 5, 9, 10, 21, 33, 100]"
      ]
     },
     "execution_count": 10,
     "metadata": {},
     "output_type": "execute_result"
    }
   ],
   "source": [
    "arr = [10,100,4,5,33,21,1,9]\n",
    "merge_sort(arr)\n",
    "arr"
   ]
  },
  {
   "cell_type": "code",
   "execution_count": null,
   "metadata": {
    "collapsed": true
   },
   "outputs": [],
   "source": []
  }
 ],
 "metadata": {
  "kernelspec": {
   "display_name": "Python 3",
   "language": "python",
   "name": "python3"
  },
  "language_info": {
   "codemirror_mode": {
    "name": "ipython",
    "version": 3
   },
   "file_extension": ".py",
   "mimetype": "text/x-python",
   "name": "python",
   "nbconvert_exporter": "python",
   "pygments_lexer": "ipython3",
   "version": "3.6.3"
  }
 },
 "nbformat": 4,
 "nbformat_minor": 2
}
