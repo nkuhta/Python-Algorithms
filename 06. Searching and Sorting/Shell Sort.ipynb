{
 "cells": [
  {
   "cell_type": "markdown",
   "metadata": {},
   "source": [
    "# Shell Sort\n",
    "---\n",
    "* Improves insertion by breaking up original list into a number of smaller sublists.  \n",
    "* Choose items that are always a choosen increment distance apart.  "
   ]
  },
  {
   "cell_type": "code",
   "execution_count": 1,
   "metadata": {
    "collapsed": true
   },
   "outputs": [],
   "source": [
    "def shell_sort(arr):\n",
    "    \n",
    "    sublistcount = len(arr)//2\n",
    "    \n",
    "    while sublistcount > 0:\n",
    "        \n",
    "        for start in range(sublistcount):\n",
    "            \n",
    "            gap_insertion_sort(arr,start,sublistcount)\n",
    "    \n",
    "        print('Sublist Count: ',sublistcount)\n",
    "        print('The list is: ',arr)\n",
    "        sublistcount = sublistcount//2\n",
    "\n",
    "def gap_insertion_sort(arr,start,gap):\n",
    "    \n",
    "    for i in range(start+gap,len(arr),gap):\n",
    "        \n",
    "        currentvalue = arr[i]\n",
    "        position = i\n",
    "        \n",
    "        while position >= gap and arr[position-gap] > currentvalue:\n",
    "            \n",
    "            arr[position] = arr[position-gap]\n",
    "            position = position - gap\n",
    "        \n",
    "        arr[position] = currentvalue"
   ]
  },
  {
   "cell_type": "code",
   "execution_count": 2,
   "metadata": {},
   "outputs": [
    {
     "name": "stdout",
     "output_type": "stream",
     "text": [
      "Sublist Count:  4\n",
      "The list is:  [3, 1, 5, 4, 234, 4, 11, 62]\n",
      "Sublist Count:  2\n",
      "The list is:  [3, 1, 5, 4, 11, 4, 234, 62]\n",
      "Sublist Count:  1\n",
      "The list is:  [1, 3, 4, 4, 5, 11, 62, 234]\n"
     ]
    },
    {
     "data": {
      "text/plain": [
       "[1, 3, 4, 4, 5, 11, 62, 234]"
      ]
     },
     "execution_count": 2,
     "metadata": {},
     "output_type": "execute_result"
    }
   ],
   "source": [
    "arr = [3,4,5,62,234,1,11,4]\n",
    "shell_sort(arr)\n",
    "arr"
   ]
  },
  {
   "cell_type": "code",
   "execution_count": null,
   "metadata": {
    "collapsed": true
   },
   "outputs": [],
   "source": []
  }
 ],
 "metadata": {
  "kernelspec": {
   "display_name": "Python 3",
   "language": "python",
   "name": "python3"
  },
  "language_info": {
   "codemirror_mode": {
    "name": "ipython",
    "version": 3
   },
   "file_extension": ".py",
   "mimetype": "text/x-python",
   "name": "python",
   "nbconvert_exporter": "python",
   "pygments_lexer": "ipython3",
   "version": "3.6.3"
  }
 },
 "nbformat": 4,
 "nbformat_minor": 2
}
