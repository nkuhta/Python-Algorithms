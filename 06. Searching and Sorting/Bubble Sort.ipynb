{
 "cells": [
  {
   "cell_type": "markdown",
   "metadata": {},
   "source": [
    "#  Bubble Sort\n",
    "---\n",
    "*  Bubble Sort traverses through a list __comparing neighboring elements__ and __exchanging__ their positions if needed. \n",
    "*  Once the largest element of the list is engaged, it moves all the way to the right.  \n",
    "*  O($n^2$) at the worst"
   ]
  },
  {
   "cell_type": "code",
   "execution_count": 1,
   "metadata": {
    "collapsed": true
   },
   "outputs": [],
   "source": [
    "def bubble_sort(arr):\n",
    "    \n",
    "    for n in range(len(arr)-1,0,-1):   # move the endpoint left each iteration\n",
    "        \n",
    "        for k in range(n):\n",
    "            \n",
    "            if arr[k] > arr[k+1]:    #  check neighbors\n",
    "                temp = arr[k]\n",
    "                \n",
    "                arr[k] = arr[k+1]\n",
    "                arr[k+1] = temp\n",
    "                "
   ]
  },
  {
   "cell_type": "code",
   "execution_count": 2,
   "metadata": {},
   "outputs": [
    {
     "data": {
      "text/plain": [
       "[4, 3, 2, 1]"
      ]
     },
     "execution_count": 2,
     "metadata": {},
     "output_type": "execute_result"
    }
   ],
   "source": [
    "arr = [1,2,3,4,5]\n",
    "#  run the indexes up to the second to last backwards.  \n",
    "list(range(len(arr)-1,0,-1))"
   ]
  },
  {
   "cell_type": "code",
   "execution_count": 4,
   "metadata": {},
   "outputs": [
    {
     "data": {
      "text/plain": [
       "[2, 3, 5, 7]"
      ]
     },
     "execution_count": 4,
     "metadata": {},
     "output_type": "execute_result"
    }
   ],
   "source": [
    "#  test result \n",
    "my_arr=[5,3,7,2]\n",
    "bubble_sort(my_arr)\n",
    "my_arr"
   ]
  },
  {
   "cell_type": "code",
   "execution_count": null,
   "metadata": {
    "collapsed": true
   },
   "outputs": [],
   "source": []
  }
 ],
 "metadata": {
  "kernelspec": {
   "display_name": "Python 3",
   "language": "python",
   "name": "python3"
  },
  "language_info": {
   "codemirror_mode": {
    "name": "ipython",
    "version": 3
   },
   "file_extension": ".py",
   "mimetype": "text/x-python",
   "name": "python",
   "nbconvert_exporter": "python",
   "pygments_lexer": "ipython3",
   "version": "3.6.3"
  }
 },
 "nbformat": 4,
 "nbformat_minor": 2
}
