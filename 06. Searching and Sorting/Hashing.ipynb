{
 "cells": [
  {
   "cell_type": "markdown",
   "metadata": {},
   "source": [
    "# Hashing\n",
    "---\n",
    "* Search in O(1) time\n",
    "* A __hash function__ maps an element to a hash table slot (shown below).  \n",
    "* h(item) = item%table_length\n",
    "* __load factor__ is the fraction of occupied hash table slots. \n",
    "* what about a collision?  44%11 = 77%11 for example. \n",
    "* can use more elaborate hash function, including on character input. \n",
    "* linear and quadradic __rehashing__ skips slots during collision.  \n",
    "* __chaining__ involves allowing many items to exist, or chain off the same slot.  \n",
    "* A Python __dictionary__ is a hash table.  "
   ]
  },
  {
   "cell_type": "markdown",
   "metadata": {},
   "source": [
    "# Hash Table Class\n",
    "---\n",
    "*  __HashTable()__ Creates a new, empty map.  \n",
    "*  __put(key,val)__ Add a new key-value pair to the map.  If the key is already in the map then replace the old value with the new value. \n",
    "*  __get(key)__ Given a key, return the value stored in the map or None otherwise. \n",
    "* __del__ Deletes the key-value pair from the map. \n",
    "* __len()__ returns the number of key-value pairs stored.  \n",
    "* __in__ True if key in map.  "
   ]
  },
  {
   "cell_type": "code",
   "execution_count": 1,
   "metadata": {},
   "outputs": [],
   "source": [
    "class HashTable(object):\n",
    "    \n",
    "    # Attributes\n",
    "    def __init__(self,size):\n",
    "        self.size = size\n",
    "        self.slots = [None] * self.size\n",
    "        self.data = [None] * self.size\n",
    "        \n",
    "    def put(self,key,data):\n",
    "        #  hashvalue = hash table index value \n",
    "        hashvalue = self.hashfunction(key,len(self.slots))\n",
    "        \n",
    "        if self.slots[hashvalue]==None:   # is slot empty, if so assign key/data \n",
    "            self.slots[hashvalue] = key\n",
    "            self.data[hashvalue] = data\n",
    "        \n",
    "        else:\n",
    "            if self.slots[hashvalue]==key:  # if key exists, replace value\n",
    "                self.data[hashvalue]==data\n",
    "            \n",
    "            #  else get new slot value with rehash function\n",
    "            else:\n",
    "                nextslot = self.rehash(hashvalue,len(self.slots))\n",
    "                \n",
    "                while self.slots[nextslot]!=None and self.slots[nextslot]!=key:\n",
    "                    nextslot = self.rehash(nextslot,len(self.slots))\n",
    "                \n",
    "                if self.slots[nextslot]==None:\n",
    "                    self.slots[nextslot] = key\n",
    "                    self.data[nextslot] = data\n",
    "                else:\n",
    "                    self.data[nextslot] = data\n",
    "    \n",
    "    #  remainder method hash function \n",
    "    def hashfunction(self,key,size):\n",
    "        return key%size\n",
    "    \n",
    "    #  move along to next empty slot\n",
    "    def rehash(self,oldhash,size):\n",
    "        return (oldhash+1)%size\n",
    "    \n",
    "    #  getting items given an input key\n",
    "    def get(self,key):\n",
    "        \n",
    "        # if there was no collision this is the answer\n",
    "        startslot = self.hashfunction(key,len(self.slots))\n",
    "        data = None\n",
    "        stop = False\n",
    "        found = False\n",
    "        position = startslot \n",
    "        \n",
    "        \n",
    "        while self.slots[position]!= None and not found and not stop:\n",
    "            \n",
    "            if self.slots[position]==key:\n",
    "                found = True\n",
    "                data = self.data[position]\n",
    "            \n",
    "            else:\n",
    "                position = self.rehash(position,len(self.slots))\n",
    "                \n",
    "                if position == startslot: \n",
    "                    stop = True\n",
    "        return data    \n",
    "    \n",
    "    \n",
    "    def __getitem__(self,key):\n",
    "        return self.get(key)\n",
    "    \n",
    "    def __setitem__(self,key,data):\n",
    "        self.put(key,data)"
   ]
  },
  {
   "cell_type": "code",
   "execution_count": 2,
   "metadata": {
    "collapsed": true
   },
   "outputs": [],
   "source": [
    "h = HashTable(5)"
   ]
  },
  {
   "cell_type": "code",
   "execution_count": 3,
   "metadata": {
    "collapsed": true
   },
   "outputs": [],
   "source": [
    "h[1] = 'one'"
   ]
  },
  {
   "cell_type": "code",
   "execution_count": 4,
   "metadata": {
    "collapsed": true
   },
   "outputs": [],
   "source": [
    "h[2] = 'two'"
   ]
  },
  {
   "cell_type": "code",
   "execution_count": 5,
   "metadata": {
    "collapsed": true
   },
   "outputs": [],
   "source": [
    "h[3] = 'three'"
   ]
  },
  {
   "cell_type": "code",
   "execution_count": 6,
   "metadata": {},
   "outputs": [
    {
     "data": {
      "text/plain": [
       "'one'"
      ]
     },
     "execution_count": 6,
     "metadata": {},
     "output_type": "execute_result"
    }
   ],
   "source": [
    "h[1]"
   ]
  },
  {
   "cell_type": "code",
   "execution_count": 7,
   "metadata": {},
   "outputs": [
    {
     "data": {
      "text/plain": [
       "'two'"
      ]
     },
     "execution_count": 7,
     "metadata": {},
     "output_type": "execute_result"
    }
   ],
   "source": [
    "h[2]"
   ]
  },
  {
   "cell_type": "code",
   "execution_count": 8,
   "metadata": {},
   "outputs": [
    {
     "data": {
      "text/plain": [
       "'three'"
      ]
     },
     "execution_count": 8,
     "metadata": {},
     "output_type": "execute_result"
    }
   ],
   "source": [
    "h[3]"
   ]
  },
  {
   "cell_type": "code",
   "execution_count": null,
   "metadata": {
    "collapsed": true
   },
   "outputs": [],
   "source": []
  }
 ],
 "metadata": {
  "kernelspec": {
   "display_name": "Python 3",
   "language": "python",
   "name": "python3"
  },
  "language_info": {
   "codemirror_mode": {
    "name": "ipython",
    "version": 3
   },
   "file_extension": ".py",
   "mimetype": "text/x-python",
   "name": "python",
   "nbconvert_exporter": "python",
   "pygments_lexer": "ipython3",
   "version": "3.6.1"
  }
 },
 "nbformat": 4,
 "nbformat_minor": 2
}
